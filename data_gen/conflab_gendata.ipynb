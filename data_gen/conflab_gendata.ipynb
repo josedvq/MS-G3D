{
 "metadata": {
  "language_info": {
   "codemirror_mode": {
    "name": "ipython",
    "version": 3
   },
   "file_extension": ".py",
   "mimetype": "text/x-python",
   "name": "python",
   "nbconvert_exporter": "python",
   "pygments_lexer": "ipython3",
   "version": "3.8.5"
  },
  "orig_nbformat": 4,
  "kernelspec": {
   "name": "python3",
   "display_name": "Python 3.8.5 64-bit"
  },
  "interpreter": {
   "hash": "31f2aee4e71d21fbe5cf8b01ff0e069b9275f58929596ceb00d14d90e3e16cd6"
  }
 },
 "nbformat": 4,
 "nbformat_minor": 2,
 "cells": [
  {
   "cell_type": "code",
   "execution_count": 1,
   "metadata": {},
   "outputs": [],
   "source": [
    "from conflab_gendata import Feeder_conflab"
   ]
  },
  {
   "cell_type": "code",
   "execution_count": 2,
   "metadata": {},
   "outputs": [],
   "source": [
    "data_path = '../data/conflab_raw/coco'\n",
    "label_path = '../data/conflab_raw/speaking_status'\n",
    "max_frame = 300"
   ]
  },
  {
   "cell_type": "code",
   "execution_count": 3,
   "metadata": {},
   "outputs": [
    {
     "output_type": "stream",
     "name": "stderr",
     "text": [
      "32it [01:48,  3.40s/it]\n",
      "8it [00:01,  4.54it/s]\n"
     ]
    }
   ],
   "source": [
    "feeder = Feeder_conflab(\n",
    "        data_path=data_path,\n",
    "        label_path=label_path,\n",
    "        window_size=max_frame)"
   ]
  },
  {
   "cell_type": "code",
   "execution_count": 4,
   "metadata": {},
   "outputs": [
    {
     "output_type": "execute_result",
     "data": {
      "text/plain": [
       "   Unnamed: 0  index  media_time  data0\n",
       "0           0    0.0    0.000000    0.0\n",
       "1           1    0.0    0.000000    0.0\n",
       "2           2    5.0    0.038016    0.0\n",
       "3           3    6.0    0.054700    0.0\n",
       "4           4    7.0    0.071383    0.0"
      ],
      "text/html": "<div>\n<style scoped>\n    .dataframe tbody tr th:only-of-type {\n        vertical-align: middle;\n    }\n\n    .dataframe tbody tr th {\n        vertical-align: top;\n    }\n\n    .dataframe thead th {\n        text-align: right;\n    }\n</style>\n<table border=\"1\" class=\"dataframe\">\n  <thead>\n    <tr style=\"text-align: right;\">\n      <th></th>\n      <th>Unnamed: 0</th>\n      <th>index</th>\n      <th>media_time</th>\n      <th>data0</th>\n    </tr>\n  </thead>\n  <tbody>\n    <tr>\n      <th>0</th>\n      <td>0</td>\n      <td>0.0</td>\n      <td>0.000000</td>\n      <td>0.0</td>\n    </tr>\n    <tr>\n      <th>1</th>\n      <td>1</td>\n      <td>0.0</td>\n      <td>0.000000</td>\n      <td>0.0</td>\n    </tr>\n    <tr>\n      <th>2</th>\n      <td>2</td>\n      <td>5.0</td>\n      <td>0.038016</td>\n      <td>0.0</td>\n    </tr>\n    <tr>\n      <th>3</th>\n      <td>3</td>\n      <td>6.0</td>\n      <td>0.054700</td>\n      <td>0.0</td>\n    </tr>\n    <tr>\n      <th>4</th>\n      <td>4</td>\n      <td>7.0</td>\n      <td>0.071383</td>\n      <td>0.0</td>\n    </tr>\n  </tbody>\n</table>\n</div>"
     },
     "metadata": {},
     "execution_count": 4
    }
   ],
   "source": [
    "feeder.labels['vid2_seg8'][22]['ss'].head()"
   ]
  },
  {
   "cell_type": "code",
   "execution_count": 5,
   "metadata": {},
   "outputs": [
    {
     "output_type": "execute_result",
     "data": {
      "text/plain": [
       "7195"
      ]
     },
     "metadata": {},
     "execution_count": 5
    }
   ],
   "source": [
    "len(feeder.segments[0]['tracks'][44])"
   ]
  },
  {
   "cell_type": "code",
   "execution_count": 8,
   "metadata": {},
   "outputs": [
    {
     "output_type": "execute_result",
     "data": {
      "text/plain": [
       "array([[0, 0.41680672268907565, 0.1658242741796065, 0.3957983193277311,\n",
       "        0.20018425891952496, None, None, 0.42857142857142855,\n",
       "        0.12399472753970575, None, None, None, None, None, None, None,\n",
       "        None, None, None, None, None, None, None, None, None, None, None,\n",
       "        None, None, None, None, 0.44873949579831934, 0.27637379029934417,\n",
       "        0.4361344537815126, 0.3525633216791634, 0, 0, None, 0, None,\n",
       "        None, None, None, None, None, None, None, None, None, None, 0, 0],\n",
       "       [1, 0.41680672268907565, 0.1658242741796065, 0.3957983193277311,\n",
       "        0.20018425891952496, None, None, 0.42857142857142855,\n",
       "        0.12399472753970575, None, None, None, None, None, None, None,\n",
       "        None, None, None, None, None, None, None, None, None, None, None,\n",
       "        None, None, None, None, 0.44873949579831934, 0.27637379029934417,\n",
       "        0.4361344537815126, 0.3525633216791634, 0, 0, None, 0, None,\n",
       "        None, None, None, None, None, None, None, None, None, None, 0, 0],\n",
       "       [2, 0.41680672268907565, 0.1658242741796065, 0.3957983193277311,\n",
       "        0.20018425891952496, None, None, 0.42857142857142855,\n",
       "        0.12399472753970575, None, None, None, None, None, None, None,\n",
       "        None, None, None, None, None, None, None, None, None, None, None,\n",
       "        None, None, None, None, 0.44873949579831934, 0.27637379029934417,\n",
       "        0.4361344537815126, 0.3525633216791634, 0, 0, None, 0, None,\n",
       "        None, None, None, None, None, None, None, None, None, None, 0, 0],\n",
       "       [3, 0.41680672268907565, 0.1658242741796065, 0.3957983193277311,\n",
       "        0.20018425891952496, None, None, 0.42857142857142855,\n",
       "        0.12399472753970575, None, None, None, None, None, None, None,\n",
       "        None, None, None, None, None, None, None, None, None, None, None,\n",
       "        None, None, None, None, 0.44873949579831934, 0.27637379029934417,\n",
       "        0.4361344537815126, 0.3525633216791634, 0, 0, None, 0, None,\n",
       "        None, None, None, None, None, None, None, None, None, None, 0, 0],\n",
       "       [4, 0.41680672268907565, 0.1658242741796065, 0.3957983193277311,\n",
       "        0.20018425891952496, None, None, 0.42857142857142855,\n",
       "        0.12399472753970575, None, None, None, None, None, None, None,\n",
       "        None, None, None, None, None, None, None, None, None, None, None,\n",
       "        None, None, None, None, 0.44873949579831934, 0.27637379029934417,\n",
       "        0.4361344537815126, 0.3525633216791634, 0, 0, None, 0, None,\n",
       "        None, None, None, None, None, None, None, None, None, None, 0, 0]],\n",
       "      dtype=object)"
      ]
     },
     "metadata": {},
     "execution_count": 8
    }
   ],
   "source": [
    "feeder.segments[0]['tracks'][44][:5]"
   ]
  },
  {
   "cell_type": "code",
   "execution_count": null,
   "metadata": {},
   "outputs": [],
   "source": []
  },
  {
   "cell_type": "code",
   "execution_count": null,
   "metadata": {},
   "outputs": [],
   "source": []
  },
  {
   "cell_type": "code",
   "execution_count": null,
   "metadata": {},
   "outputs": [],
   "source": []
  }
 ]
}