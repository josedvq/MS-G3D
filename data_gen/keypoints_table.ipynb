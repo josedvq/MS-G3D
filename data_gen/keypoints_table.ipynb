{
 "cells": [
  {
   "cell_type": "code",
   "execution_count": 12,
   "metadata": {},
   "outputs": [],
   "source": [
    "import numpy as np\n",
    "import pandas as pd\n",
    "import seaborn as sbs\n",
    "import scipy\n",
    "import matplotlib.pyplot as plt"
   ]
  },
  {
   "cell_type": "code",
   "execution_count": 23,
   "metadata": {},
   "outputs": [],
   "source": [
    "df = pd.DataFrame({\n",
    "    'Head (px)': {'cvat_error': '12.6 (7.9)', 'covfee_error': '14.4 (12.0)', 'covfee_time': '4.2min'},\n",
    "    'Left shoulder (px)': {'cvat_error': '21.4 (11.1)', 'covfee_error': '19.7 (6.9)', 'covfee_time': '1.5min'},\n",
    "    'Right shoulder (px)': {'cvat_error': '34.5 (19.1)', 'covfee_error': '22.1 (11.2)', 'covfee_time': '1.7min'},\n",
    "    'Head orientation (deg)': {'cvat_error': '11.4 (12.8)', 'covfee_error': '7.3 (4.0)', 'covfee_time': '-'},\n",
    "    'Body orientation (deg)': {'cvat_error': '8.3 (19.9)', 'covfee_error': '8.4 (5.6)', 'covfee_time': '-'}\n",
    "})"
   ]
  },
  {
   "cell_type": "code",
   "execution_count": 24,
   "metadata": {},
   "outputs": [
    {
     "data": {
      "text/html": [
       "<div>\n",
       "<style scoped>\n",
       "    .dataframe tbody tr th:only-of-type {\n",
       "        vertical-align: middle;\n",
       "    }\n",
       "\n",
       "    .dataframe tbody tr th {\n",
       "        vertical-align: top;\n",
       "    }\n",
       "\n",
       "    .dataframe thead th {\n",
       "        text-align: right;\n",
       "    }\n",
       "</style>\n",
       "<table border=\"1\" class=\"dataframe\">\n",
       "  <thead>\n",
       "    <tr style=\"text-align: right;\">\n",
       "      <th></th>\n",
       "      <th>Head (px)</th>\n",
       "      <th>Left shoulder (px)</th>\n",
       "      <th>Right shoulder (px)</th>\n",
       "      <th>Head orientation (deg)</th>\n",
       "      <th>Body orientation (deg)</th>\n",
       "    </tr>\n",
       "  </thead>\n",
       "  <tbody>\n",
       "    <tr>\n",
       "      <th>cvat_error</th>\n",
       "      <td>12.6 (7.9)</td>\n",
       "      <td>21.4 (11.1)</td>\n",
       "      <td>34.5 (19.1)</td>\n",
       "      <td>11.4 (12.8)</td>\n",
       "      <td>8.3 (19.9)</td>\n",
       "    </tr>\n",
       "    <tr>\n",
       "      <th>covfee_error</th>\n",
       "      <td>14.4 (12.0)</td>\n",
       "      <td>19.7 (6.9)</td>\n",
       "      <td>22.1 (11.2)</td>\n",
       "      <td>7.3 (4.0)</td>\n",
       "      <td>8.4 (5.6)</td>\n",
       "    </tr>\n",
       "    <tr>\n",
       "      <th>covfee_time</th>\n",
       "      <td>4.2min</td>\n",
       "      <td>1.5min</td>\n",
       "      <td>1.7min</td>\n",
       "      <td>-</td>\n",
       "      <td>-</td>\n",
       "    </tr>\n",
       "  </tbody>\n",
       "</table>\n",
       "</div>"
      ],
      "text/plain": [
       "                Head (px) Left shoulder (px) Right shoulder (px)  \\\n",
       "cvat_error     12.6 (7.9)        21.4 (11.1)         34.5 (19.1)   \n",
       "covfee_error  14.4 (12.0)         19.7 (6.9)         22.1 (11.2)   \n",
       "covfee_time        4.2min             1.5min              1.7min   \n",
       "\n",
       "             Head orientation (deg) Body orientation (deg)  \n",
       "cvat_error              11.4 (12.8)             8.3 (19.9)  \n",
       "covfee_error              7.3 (4.0)              8.4 (5.6)  \n",
       "covfee_time                       -                      -  "
      ]
     },
     "execution_count": 24,
     "metadata": {},
     "output_type": "execute_result"
    }
   ],
   "source": [
    "df"
   ]
  },
  {
   "cell_type": "code",
   "execution_count": 26,
   "metadata": {},
   "outputs": [
    {
     "name": "stdout",
     "output_type": "stream",
     "text": [
      "\\begin{tabular}{llll}\n",
      "\\toprule\n",
      "{} &   cvat\\_error & covfee\\_error & covfee\\_time \\\\\n",
      "\\midrule\n",
      "Head (px)              &   12.6 (7.9) &  14.4 (12.0) &      4.2min \\\\\n",
      "Left shoulder (px)     &  21.4 (11.1) &   19.7 (6.9) &      1.5min \\\\\n",
      "Right shoulder (px)    &  34.5 (19.1) &  22.1 (11.2) &      1.7min \\\\\n",
      "Head orientation (deg) &  11.4 (12.8) &    7.3 (4.0) &           - \\\\\n",
      "Body orientation (deg) &   8.3 (19.9) &    8.4 (5.6) &           - \\\\\n",
      "\\bottomrule\n",
      "\\end{tabular}\n",
      "\n"
     ]
    }
   ],
   "source": [
    "print(df.transpose().to_latex())"
   ]
  },
  {
   "cell_type": "code",
   "execution_count": null,
   "metadata": {},
   "outputs": [],
   "source": []
  }
 ],
 "metadata": {
  "interpreter": {
   "hash": "916dbcbb3f70747c44a77c7bcd40155683ae19c65e1c03b4aa3499c5328201f1"
  },
  "kernelspec": {
   "display_name": "Python 3.8.10 64-bit",
   "language": "python",
   "name": "python3"
  },
  "language_info": {
   "codemirror_mode": {
    "name": "ipython",
    "version": 3
   },
   "file_extension": ".py",
   "mimetype": "text/x-python",
   "name": "python",
   "nbconvert_exporter": "python",
   "pygments_lexer": "ipython3",
   "version": "3.8.10"
  },
  "orig_nbformat": 4
 },
 "nbformat": 4,
 "nbformat_minor": 2
}
