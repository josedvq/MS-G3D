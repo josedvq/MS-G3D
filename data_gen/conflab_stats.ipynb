{
 "cells": [
  {
   "cell_type": "code",
   "execution_count": 1,
   "metadata": {},
   "outputs": [],
   "source": [
    "%load_ext autoreload\n",
    "%autoreload 2"
   ]
  },
  {
   "cell_type": "code",
   "execution_count": 2,
   "metadata": {},
   "outputs": [],
   "source": [
    "import numpy as np"
   ]
  },
  {
   "cell_type": "code",
   "execution_count": 3,
   "metadata": {},
   "outputs": [],
   "source": [
    "from conflab_gendata import Feeder_conflab, gendata_from_feeder"
   ]
  },
  {
   "cell_type": "code",
   "execution_count": 4,
   "metadata": {},
   "outputs": [],
   "source": [
    "data_path = '../data/conflab_raw/coco'\n",
    "label_path = '../data/conflab_raw/speaking_status'\n",
    "max_frame = 300"
   ]
  },
  {
   "cell_type": "code",
   "execution_count": 5,
   "metadata": {},
   "outputs": [
    {
     "name": "stderr",
     "output_type": "stream",
     "text": [
      "32it [01:51,  3.49s/it]\n",
      "8it [00:01,  4.29it/s]\n"
     ]
    }
   ],
   "source": [
    "feeder = Feeder_conflab(\n",
    "        data_path=data_path,\n",
    "        label_path=label_path,\n",
    "        window_size=max_frame)"
   ]
  },
  {
   "cell_type": "markdown",
   "metadata": {},
   "source": [
    "# occlusion stats"
   ]
  },
  {
   "cell_type": "code",
   "execution_count": 6,
   "metadata": {},
   "outputs": [
    {
     "data": {
      "text/plain": [
       "dict_keys(['cam', 'vid', 'seg', 'tracks'])"
      ]
     },
     "execution_count": 6,
     "metadata": {},
     "output_type": "execute_result"
    }
   ],
   "source": [
    "feeder.segments[0].keys()"
   ]
  },
  {
   "cell_type": "code",
   "execution_count": 7,
   "metadata": {},
   "outputs": [
    {
     "data": {
      "text/plain": [
       "array([100, 0.326890756302521, 0.3361302854992024, 0.3319327731092437,\n",
       "       0.3017703007592839, None, None, 0.38907563025210085,\n",
       "       0.3525633216791634, None, None, None, None, None, None, None, None,\n",
       "       None, None, None, None, None, None, None, None, None, None, None,\n",
       "       None, None, None, 0.4184873949579832, 0.40485025497903926,\n",
       "       0.3865546218487395, 0.43921023971895773, 0, 1, None, 0, None, None,\n",
       "       None, None, None, None, None, None, None, None, None, 0, 1],\n",
       "      dtype=object)"
      ]
     },
     "execution_count": 7,
     "metadata": {},
     "output_type": "execute_result"
    }
   ],
   "source": [
    "# 0: frame num\n",
    "# 1-35: skeleton\n",
    "# 35-52: occlusion\n",
    "feeder.segments[0]['tracks'][1][100]"
   ]
  },
  {
   "cell_type": "code",
   "execution_count": 8,
   "metadata": {},
   "outputs": [],
   "source": [
    "occlusion_per_joint = np.zeros((17))\n",
    "totals_per_joint = np.zeros((17), dtype=int)\n",
    "for seg in feeder.segments:\n",
    "    for pid, track in seg['tracks'].items():\n",
    "        occlusion_data = track[:,-17:]\n",
    "\n",
    "        has_occlusion = occlusion_data.copy()\n",
    "        has_occlusion[has_occlusion != None] = 1\n",
    "        has_occlusion[has_occlusion == None] = 0\n",
    "        # print(np.sum(has_occlusion, axis=0))\n",
    "        totals_per_joint = totals_per_joint + np.sum(has_occlusion, axis=0)\n",
    "\n",
    "\n",
    "        has_positive_occlusion = occlusion_data.copy()\n",
    "        has_positive_occlusion[has_positive_occlusion != 1] = 0\n",
    "        occlusion_per_joint = occlusion_per_joint + np.sum(has_positive_occlusion, axis=0)"
   ]
  },
  {
   "cell_type": "code",
   "execution_count": 9,
   "metadata": {},
   "outputs": [
    {
     "data": {
      "text/plain": [
       "array([1062093.0, 1846553.0, 1943151.0, 1203790.0, 1525221.0, 1624206.0,\n",
       "       1146377.0, 1520926.0, 1635187.0, 1825415.0, 2092482.0, 1916887.0,\n",
       "       1780947.0, 1898989.0, 1928590.0, 1877012.0, 1846075.0],\n",
       "      dtype=object)"
      ]
     },
     "execution_count": 9,
     "metadata": {},
     "output_type": "execute_result"
    }
   ],
   "source": [
    "occlusion_per_joint"
   ]
  },
  {
   "cell_type": "code",
   "execution_count": 10,
   "metadata": {},
   "outputs": [
    {
     "data": {
      "text/plain": [
       "array([3763390.0, 3628083.0, 3412835.0, 3747161.0, 3448178.0, 3476960.0,\n",
       "       3450936.0, 3461919.0, 3505084.0, 3462530.0, 3441631.0, 3503150.0,\n",
       "       3470407.0, 3456021.0, 3546396.0, 3828826.0, 3857605.0],\n",
       "      dtype=object)"
      ]
     },
     "execution_count": 10,
     "metadata": {},
     "output_type": "execute_result"
    }
   ],
   "source": [
    "totals_per_joint"
   ]
  },
  {
   "cell_type": "code",
   "execution_count": 11,
   "metadata": {},
   "outputs": [
    {
     "data": {
      "text/plain": [
       "array([0.28221709681962276, 0.5089610684209815, 0.5693656446912904,\n",
       "       0.3212538772686842, 0.4423266432301349, 0.467133933090976,\n",
       "       0.332193062983492, 0.4393303251751413, 0.4665186340755314,\n",
       "       0.5271911001493128, 0.6079913854797333, 0.5471895294235188,\n",
       "       0.5131810188257458, 0.5494726449868216, 0.5438168777542045,\n",
       "       0.4902317316065029, 0.4785546990943863], dtype=object)"
      ]
     },
     "execution_count": 11,
     "metadata": {},
     "output_type": "execute_result"
    }
   ],
   "source": [
    "occlusion_per_joint / totals_per_joint"
   ]
  },
  {
   "cell_type": "markdown",
   "metadata": {},
   "source": [
    "# turn length & confidence stats"
   ]
  },
  {
   "cell_type": "code",
   "execution_count": 12,
   "metadata": {},
   "outputs": [],
   "source": [
    "def apply_mpd(ss, mpd = 2):\n",
    "    mpd_ss = ss.copy()\n",
    "    pauses = []\n",
    "    indices = np.where(np.diff(ss) != 0)[0]\n",
    "    prev_index = 0\n",
    "    for idx in indices:\n",
    "        if ss[idx] == 0:\n",
    "            pauses.append([prev_index, idx])\n",
    "        prev_index = idx\n",
    "\n",
    "    for pause in pauses:\n",
    "        if pause[1] - pause[0] < mpd:\n",
    "            mpd_ss[pause[0]+1:pause[1]+1] = 1\n",
    "    return mpd_ss"
   ]
  },
  {
   "cell_type": "code",
   "execution_count": 13,
   "metadata": {},
   "outputs": [
    {
     "data": {
      "text/plain": [
       "array([1, 1, 0, 0, 0, 1, 1, 1, 0, 0, 0, 1, 1, 1, 0, 1, 1, 1, 1, 1, 1])"
      ]
     },
     "execution_count": 13,
     "metadata": {},
     "output_type": "execute_result"
    }
   ],
   "source": [
    "test = np.array([1,1,0,0,0,1,1,1,0,0,0,1,1,1,0,1,1,1,1,1,1])\n",
    "test"
   ]
  },
  {
   "cell_type": "code",
   "execution_count": 14,
   "metadata": {},
   "outputs": [
    {
     "data": {
      "text/plain": [
       "array([1, 1, 0, 0, 0, 1, 1, 1, 0, 0, 0, 1, 1, 1, 1, 1, 1, 1, 1, 1, 1])"
      ]
     },
     "execution_count": 14,
     "metadata": {},
     "output_type": "execute_result"
    }
   ],
   "source": [
    "apply_mpd(test)"
   ]
  },
  {
   "cell_type": "code",
   "execution_count": 15,
   "metadata": {},
   "outputs": [],
   "source": [
    "def get_frame_ss(ss):\n",
    "    # zero out lines with no frame\n",
    "    ss.loc[ss['index'] == 0, 'data0'] = np.nan\n",
    "    ss = ss['data0'].to_numpy()\n",
    "\n",
    "    last_status = 0\n",
    "    for i in range(len(ss)):\n",
    "        if np.isnan(ss[i]):\n",
    "            ss[i] = last_status\n",
    "        else:\n",
    "            last_status = ss[i]\n",
    "    return ss"
   ]
  },
  {
   "cell_type": "code",
   "execution_count": 16,
   "metadata": {},
   "outputs": [],
   "source": [
    "def get_turns(ss):\n",
    "    turns = []\n",
    "    indices = np.where(np.diff(ss) != 0)[0]\n",
    "    prev_index = 0\n",
    "    for idx in indices:\n",
    "        if ss[idx] == 1:\n",
    "            turns.append([prev_index, idx])\n",
    "        prev_index = idx\n",
    "    return turns"
   ]
  },
  {
   "cell_type": "code",
   "execution_count": 17,
   "metadata": {},
   "outputs": [],
   "source": [
    "def get_confidence(sig):\n",
    "    sig = sig[sig['index'] != 0]\n",
    "    conf = sig['data0'].to_numpy()\n",
    "    return conf"
   ]
  },
  {
   "cell_type": "code",
   "execution_count": null,
   "metadata": {},
   "outputs": [],
   "source": []
  },
  {
   "cell_type": "code",
   "execution_count": 18,
   "metadata": {},
   "outputs": [
    {
     "data": {
      "text/plain": [
       "array([1, 1, 0, 0, 0, 1, 1, 1, 0, 0, 0, 1, 1, 1, 0, 1, 1, 1, 1, 1, 1])"
      ]
     },
     "execution_count": 18,
     "metadata": {},
     "output_type": "execute_result"
    }
   ],
   "source": [
    "test = np.array([1,1,0,0,0,1,1,1,0,0,0,1,1,1,0,1,1,1,1,1,1])\n",
    "test"
   ]
  },
  {
   "cell_type": "code",
   "execution_count": 19,
   "metadata": {},
   "outputs": [
    {
     "data": {
      "text/plain": [
       "[[0, 1], [4, 7], [10, 13]]"
      ]
     },
     "execution_count": 19,
     "metadata": {},
     "output_type": "execute_result"
    }
   ],
   "source": [
    "get_turns(test)"
   ]
  },
  {
   "cell_type": "code",
   "execution_count": 20,
   "metadata": {},
   "outputs": [
    {
     "name": "stdout",
     "output_type": "stream",
     "text": [
      "pid_data is None\n",
      "pid_data is None\n",
      "pid_data is None\n",
      "pid_data is None\n",
      "pid_data is None\n",
      "pid_data is None\n",
      "pid_data is None\n",
      "pid_data is None\n"
     ]
    }
   ],
   "source": [
    "occlusion_per_joint = np.zeros((17))\n",
    "totals_per_joint = np.zeros((17), dtype=int)\n",
    "turn_lengths = []\n",
    "confidences = []\n",
    "for seg, seg_data in feeder.labels.items():\n",
    "    for pid, pid_data in seg_data.items():\n",
    "        ss = get_frame_ss(pid_data['ss'])\n",
    "        mpd_data = apply_mpd(ss)\n",
    "        turns = get_turns(mpd_data)\n",
    "        tl = [t[1] - t[0] for t in turns]\n",
    "        turn_lengths = [*turn_lengths, *tl]\n",
    "        if pid_data['conf'] is None:\n",
    "            print(f'pid_data is None')\n",
    "            continue\n",
    "        confidences.append(get_confidence(pid_data['conf']))\n",
    "turn_lengths = np.array(turn_lengths) / 60\n",
    "confidences = np.concatenate(confidences)"
   ]
  },
  {
   "cell_type": "code",
   "execution_count": 21,
   "metadata": {},
   "outputs": [],
   "source": [
    "import seaborn as sns\n",
    "from matplotlib import pyplot as plt"
   ]
  },
  {
   "cell_type": "code",
   "execution_count": null,
   "metadata": {},
   "outputs": [],
   "source": []
  },
  {
   "cell_type": "code",
   "execution_count": null,
   "metadata": {},
   "outputs": [],
   "source": []
  },
  {
   "cell_type": "code",
   "execution_count": 274,
   "metadata": {},
   "outputs": [
    {
     "data": {
      "image/png": "[encoded data removed]",
      "text/plain": [
       "<Figure size 432x180 with 2 Axes>"
      ]
     },
     "metadata": {
      "needs_background": "light"
     },
     "output_type": "display_data"
    }
   ],
   "source": [
    "fig, (ax1, ax2) = plt.subplots(1, 2, figsize=(6,2.5))\n",
    "# ax1 = fig.add_subplot(121)\n",
    "sns.histplot(data=turn_lengths, binrange=[0,10], binwidth=0.5, ax=ax1)\n",
    "ax1.set_xlabel(\"Duration (s)\")\n",
    "ax1.set_ylabel('Number of turns (count)')\n",
    "# fig.savefig('turns.png', dpi=300, bbox_inches='tight')\n",
    "\n",
    "# ax2 = fig.add_subplot(122)\n",
    "sns.histplot(data=confidences, binrange=[0,1], binwidth=0.04, stat='probability', ax=ax2)\n",
    "ax2.set_xlabel(\"Confidence rating\")\n",
    "ax2.set_ylabel('Count')\n",
    "fig.subplots_adjust(wspace=0.35)\n",
    "fig.savefig('ssstats.png', dpi=300, bbox_inches='tight')"
   ]
  },
  {
   "cell_type": "code",
   "execution_count": 27,
   "metadata": {},
   "outputs": [
    {
     "data": {
      "text/plain": [
       "Text(0, 0.5, 'Number of turns (count)')"
      ]
     },
     "execution_count": 27,
     "metadata": {},
     "output_type": "execute_result"
    },
    {
     "data": {
      "image/png": "[encoded data removed]",
      "text/plain": [
       "<Figure size 432x216 with 1 Axes>"
      ]
     },
     "metadata": {
      "needs_background": "light"
     },
     "output_type": "display_data"
    }
   ],
   "source": [
    "fig, ax1 = plt.subplots(1, 1, figsize=(6,3))\n",
    "sns.histplot(data=turn_lengths, binrange=[0,10], binwidth=0.5, ax=ax1)\n",
    "ax1.set_xlabel(\"Duration (s)\")\n",
    "ax1.set_ylabel('Number of turns (count)')"
   ]
  },
  {
   "cell_type": "code",
   "execution_count": 28,
   "metadata": {},
   "outputs": [],
   "source": [
    "fig.savefig('ssstats.png', dpi=300, bbox_inches='tight')"
   ]
  },
  {
   "cell_type": "code",
   "execution_count": 202,
   "metadata": {},
   "outputs": [
    {
     "data": {
      "text/html": [
       "<div>\n",
       "<style scoped>\n",
       "    .dataframe tbody tr th:only-of-type {\n",
       "        vertical-align: middle;\n",
       "    }\n",
       "\n",
       "    .dataframe tbody tr th {\n",
       "        vertical-align: top;\n",
       "    }\n",
       "\n",
       "    .dataframe thead th {\n",
       "        text-align: right;\n",
       "    }\n",
       "</style>\n",
       "<table border=\"1\" class=\"dataframe\">\n",
       "  <thead>\n",
       "    <tr style=\"text-align: right;\">\n",
       "      <th></th>\n",
       "      <th>Unnamed: 0</th>\n",
       "      <th>index</th>\n",
       "      <th>media_time</th>\n",
       "      <th>data0</th>\n",
       "    </tr>\n",
       "  </thead>\n",
       "  <tbody>\n",
       "    <tr>\n",
       "      <th>0</th>\n",
       "      <td>0</td>\n",
       "      <td>0.0</td>\n",
       "      <td>0.0000</td>\n",
       "      <td>0.000000</td>\n",
       "    </tr>\n",
       "    <tr>\n",
       "      <th>1</th>\n",
       "      <td>1</td>\n",
       "      <td>0.0</td>\n",
       "      <td>0.0000</td>\n",
       "      <td>0.000000</td>\n",
       "    </tr>\n",
       "    <tr>\n",
       "      <th>2</th>\n",
       "      <td>2</td>\n",
       "      <td>0.0</td>\n",
       "      <td>0.0000</td>\n",
       "      <td>0.000000</td>\n",
       "    </tr>\n",
       "    <tr>\n",
       "      <th>3</th>\n",
       "      <td>3</td>\n",
       "      <td>4.0</td>\n",
       "      <td>0.0547</td>\n",
       "      <td>0.485347</td>\n",
       "    </tr>\n",
       "    <tr>\n",
       "      <th>4</th>\n",
       "      <td>4</td>\n",
       "      <td>0.0</td>\n",
       "      <td>0.0000</td>\n",
       "      <td>0.000000</td>\n",
       "    </tr>\n",
       "    <tr>\n",
       "      <th>...</th>\n",
       "      <td>...</td>\n",
       "      <td>...</td>\n",
       "      <td>...</td>\n",
       "      <td>...</td>\n",
       "    </tr>\n",
       "    <tr>\n",
       "      <th>7195</th>\n",
       "      <td>7195</td>\n",
       "      <td>0.0</td>\n",
       "      <td>0.0000</td>\n",
       "      <td>0.000000</td>\n",
       "    </tr>\n",
       "    <tr>\n",
       "      <th>7196</th>\n",
       "      <td>7196</td>\n",
       "      <td>0.0</td>\n",
       "      <td>0.0000</td>\n",
       "      <td>0.000000</td>\n",
       "    </tr>\n",
       "    <tr>\n",
       "      <th>7197</th>\n",
       "      <td>7197</td>\n",
       "      <td>0.0</td>\n",
       "      <td>0.0000</td>\n",
       "      <td>0.000000</td>\n",
       "    </tr>\n",
       "    <tr>\n",
       "      <th>7198</th>\n",
       "      <td>7198</td>\n",
       "      <td>0.0</td>\n",
       "      <td>0.0000</td>\n",
       "      <td>0.000000</td>\n",
       "    </tr>\n",
       "    <tr>\n",
       "      <th>7199</th>\n",
       "      <td>7199</td>\n",
       "      <td>0.0</td>\n",
       "      <td>0.0000</td>\n",
       "      <td>0.000000</td>\n",
       "    </tr>\n",
       "  </tbody>\n",
       "</table>\n",
       "<p>7200 rows × 4 columns</p>\n",
       "</div>"
      ],
      "text/plain": [
       "      Unnamed: 0  index  media_time     data0\n",
       "0              0    0.0      0.0000  0.000000\n",
       "1              1    0.0      0.0000  0.000000\n",
       "2              2    0.0      0.0000  0.000000\n",
       "3              3    4.0      0.0547  0.485347\n",
       "4              4    0.0      0.0000  0.000000\n",
       "...          ...    ...         ...       ...\n",
       "7195        7195    0.0      0.0000  0.000000\n",
       "7196        7196    0.0      0.0000  0.000000\n",
       "7197        7197    0.0      0.0000  0.000000\n",
       "7198        7198    0.0      0.0000  0.000000\n",
       "7199        7199    0.0      0.0000  0.000000\n",
       "\n",
       "[7200 rows x 4 columns]"
      ]
     },
     "execution_count": 202,
     "metadata": {},
     "output_type": "execute_result"
    }
   ],
   "source": [
    "feeder.labels['vid3_seg2'][40]['conf']"
   ]
  },
  {
   "cell_type": "code",
   "execution_count": 29,
   "metadata": {},
   "outputs": [
    {
     "data": {
      "text/plain": [
       "4096"
      ]
     },
     "execution_count": 29,
     "metadata": {},
     "output_type": "execute_result"
    }
   ],
   "source": [
    "len(turn_lengths)"
   ]
  },
  {
   "cell_type": "code",
   "execution_count": null,
   "metadata": {},
   "outputs": [],
   "source": []
  }
 ],
 "metadata": {
  "interpreter": {
   "hash": "916dbcbb3f70747c44a77c7bcd40155683ae19c65e1c03b4aa3499c5328201f1"
  },
  "kernelspec": {
   "display_name": "Python 3.8.10 64-bit",
   "name": "python3"
  },
  "language_info": {
   "codemirror_mode": {
    "name": "ipython",
    "version": 3
   },
   "file_extension": ".py",
   "mimetype": "text/x-python",
   "name": "python",
   "nbconvert_exporter": "python",
   "pygments_lexer": "ipython3",
   "version": "3.8.10"
  },
  "orig_nbformat": 4
 },
 "nbformat": 4,
 "nbformat_minor": 2
}
